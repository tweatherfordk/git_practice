{
 "cells": [
  {
   "cell_type": "code",
   "execution_count": 4,
   "metadata": {},
   "outputs": [
    {
     "data": {
      "text/plain": [
       "['stacked',\n",
       " 'bored',\n",
       " 'kayak',\n",
       " 'deified',\n",
       " 'rotator',\n",
       " 'repaper',\n",
       " 'deed',\n",
       " 'peep',\n",
       " 'wow',\n",
       " 'noon',\n",
       " 'fried',\n",
       " 'turkeys',\n",
       " 'batton',\n",
       " 'tiger',\n",
       " 'lions',\n",
       " 'bears']"
      ]
     },
     "execution_count": 4,
     "metadata": {},
     "output_type": "execute_result"
    }
   ],
   "source": [
    "words = ['stacked','bored' ,'kayak', 'deified',\n",
    " 'rotator' ,'repaper', 'deed', 'peep' ,'wow' ,'noon',\n",
    " 'fried', 'turkeys', 'batton', 'tiger','lions', 'bears']\n",
    "words\n"
   ]
  },
  {
   "cell_type": "code",
   "execution_count": 11,
   "metadata": {},
   "outputs": [
    {
     "data": {
      "text/plain": [
       "{'Palindromes': ['kayak',\n",
       "  'deified',\n",
       "  'rotator',\n",
       "  'repaper',\n",
       "  'deed',\n",
       "  'peep',\n",
       "  'wow',\n",
       "  'noon'],\n",
       " 'Not Palindromes': ['stacked',\n",
       "  'bored',\n",
       "  'fried',\n",
       "  'turkeys',\n",
       "  'batton',\n",
       "  'tiger',\n",
       "  'lions',\n",
       "  'bears']}"
      ]
     },
     "execution_count": 11,
     "metadata": {},
     "output_type": "execute_result"
    }
   ],
   "source": [
    "palindromes = []\n",
    "non_palindromes = []\n",
    "\n",
    "for word in words:\n",
    "    if word == word [::-1]:\n",
    "        palindromes.append(word)\n",
    "    else:\n",
    "        non_palindromes.append(word)\n",
    "\n",
    "palindromes\n",
    "non_palindromes\n",
    "\n",
    "words_dict = {\"Palindromes\" : palindromes, \"Not Palindromes\" : non_palindromes}\n",
    "words_dict"
   ]
  }
 ],
 "metadata": {
  "kernelspec": {
   "display_name": "Python (learn-env)",
   "language": "python",
   "name": "learn-env"
  },
  "language_info": {
   "codemirror_mode": {
    "name": "ipython",
    "version": 3
   },
   "file_extension": ".py",
   "mimetype": "text/x-python",
   "name": "python",
   "nbconvert_exporter": "python",
   "pygments_lexer": "ipython3",
   "version": "3.8.5"
  }
 },
 "nbformat": 4,
 "nbformat_minor": 4
}
