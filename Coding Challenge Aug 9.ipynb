{
 "cells": [
  {
   "cell_type": "code",
   "execution_count": 2,
   "metadata": {},
   "outputs": [
    {
     "data": {
      "text/plain": [
       "['stacked',\n",
       " 'bored',\n",
       " 'kayak',\n",
       " 'deified',\n",
       " 'rotator',\n",
       " 'repaper',\n",
       " 'deed',\n",
       " 'peep',\n",
       " 'wow',\n",
       " 'noon',\n",
       " 'fried',\n",
       " 'turkeys',\n",
       " 'batton',\n",
       " 'tiger',\n",
       " 'lions',\n",
       " 'bears']"
      ]
     },
     "execution_count": 2,
     "metadata": {},
     "output_type": "execute_result"
    }
   ],
   "source": [
    "words = ['stacked','bored' ,'kayak', 'deified',\n",
    " 'rotator' ,'repaper', 'deed', 'peep' ,'wow' ,'noon',\n",
    " 'fried', 'turkeys', 'batton', 'tiger','lions', 'bears']\n",
    "words\n"
   ]
  },
  {
   "cell_type": "code",
   "execution_count": 3,
   "metadata": {},
   "outputs": [
    {
     "data": {
      "text/plain": [
       "['kayak',\n",
       " 'deified',\n",
       " 'rotator',\n",
       " 'repaper',\n",
       " 'deed',\n",
       " 'peep',\n",
       " 'wow',\n",
       " 'noon',\n",
       " 'batton']"
      ]
     },
     "execution_count": 3,
     "metadata": {},
     "output_type": "execute_result"
    }
   ],
   "source": [
    "palindromes_words = ['kayak', 'deified', 'rotator', 'repaper', 'deed', 'peep', 'wow', 'noon', 'batton']\n",
    "palindromes"
   ]
  },
  {
   "cell_type": "code",
   "execution_count": 4,
   "metadata": {},
   "outputs": [
    {
     "data": {
      "text/plain": [
       "['stacked', 'bored', 'fried', 'turkeys', 'tiger', 'lions', 'bears']"
      ]
     },
     "execution_count": 4,
     "metadata": {},
     "output_type": "execute_result"
    }
   ],
   "source": [
    "not_palindromes = ['stacked', 'bored', 'fried', 'turkeys', 'tiger', 'lions', 'bears']\n",
    "not_palindromes  "
   ]
  },
  {
   "cell_type": "code",
   "execution_count": 6,
   "metadata": {},
   "outputs": [
    {
     "data": {
      "text/plain": [
       "{'Palindromes': ['kayak',\n",
       "  'deified',\n",
       "  'rotator',\n",
       "  'repaper',\n",
       "  'deed',\n",
       "  'peep',\n",
       "  'wow',\n",
       "  'noon',\n",
       "  'batton'],\n",
       " 'Not Palindromes': ['stacked',\n",
       "  'bored',\n",
       "  'fried',\n",
       "  'turkeys',\n",
       "  'tiger',\n",
       "  'lions',\n",
       "  'bears']}"
      ]
     },
     "execution_count": 6,
     "metadata": {},
     "output_type": "execute_result"
    }
   ],
   "source": [
    "words_dict = {\"Palindromes\" : palindromes, \"Not Palindromes\" : not_palindromes}\n",
    "words_dict"
   ]
  },
  {
   "cell_type": "code",
   "execution_count": null,
   "metadata": {},
   "outputs": [],
   "source": []
  },
  {
   "cell_type": "code",
   "execution_count": null,
   "metadata": {},
   "outputs": [],
   "source": []
  }
 ],
 "metadata": {
  "kernelspec": {
   "display_name": "Python (learn-env)",
   "language": "python",
   "name": "learn-env"
  },
  "language_info": {
   "codemirror_mode": {
    "name": "ipython",
    "version": 3
   },
   "file_extension": ".py",
   "mimetype": "text/x-python",
   "name": "python",
   "nbconvert_exporter": "python",
   "pygments_lexer": "ipython3",
   "version": "3.8.5"
  }
 },
 "nbformat": 4,
 "nbformat_minor": 4
}
